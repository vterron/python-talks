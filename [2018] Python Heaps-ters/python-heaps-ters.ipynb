{
 "cells": [
  {
   "cell_type": "markdown",
   "metadata": {},
   "source": [
    "<img src=\"./images/cover.svg\"/>\n",
    "\n",
    "[Photo](https://www.pexels.com/photo/man-wearing-black-and-red-checkered-long-sleeve-shirt-wearing-black-wayfarer-sunglasses-sitting-on-white-wooden-chair-69212/) by [iiii iiii](https://www.pexels.com/@iiii-iiii-10613) / [Pexels License](https://www.pexels.com/photo-license/) | Design by [@maidotgimenez](https://twitter.com/maidotgimenez)"
   ]
  },
  {
   "cell_type": "markdown",
   "metadata": {
    "slideshow": {
     "slide_type": "subslide"
    }
   },
   "source": [
    "# Motivation\n",
    "\n",
    "> Understand **why** we need [heaps][1] and **how** they work.\n",
    "\n",
    "1. An (unsolvable?) problem.\n",
    "- The solution: heaps.\n",
    "- The three operations:\n",
    "  * Get root: $\\mathcal{O}(1)$\n",
    "  * Delete root: $\\mathcal{O}(\\log n)$\n",
    "  * Insertion: $\\mathcal{O}(\\log n)$\n",
    "- Two options for implementation:\n",
    "  * Tree.\n",
    "  * Array.\n",
    "- How to use them in Python.\n",
    "- Revisiting our problem.\n",
    "\n",
    "[1]: https://en.wikipedia.org/wiki/Heap_(data_structure)"
   ]
  },
  {
   "cell_type": "markdown",
   "metadata": {
    "slideshow": {
     "slide_type": "slide"
    }
   },
   "source": [
    "# An (unsolvable?) problem\n",
    "\n",
    "> Find the maximum in a series of values."
   ]
  },
  {
   "cell_type": "code",
   "execution_count": 1,
   "metadata": {},
   "outputs": [],
   "source": [
    "numbers = [8, 5, 2, 6, 9, 3]"
   ]
  },
  {
   "cell_type": "code",
   "execution_count": 2,
   "metadata": {
    "slideshow": {
     "slide_type": "subslide"
    }
   },
   "outputs": [
    {
     "data": {
      "text/plain": [
       "9"
      ]
     },
     "execution_count": 2,
     "metadata": {},
     "output_type": "execute_result"
    }
   ],
   "source": [
    "import math\n",
    "\n",
    "def find_maximum(numbers):\n",
    "    \"\"\"Return the maximum value in 'numbers'.\"\"\"\n",
    "    \n",
    "    maximum = -math.inf\n",
    "    for n in numbers:\n",
    "        if n > maximum:\n",
    "            maximum = n\n",
    "    return maximum\n",
    "\n",
    "\n",
    "find_maximum(numbers)"
   ]
  },
  {
   "cell_type": "markdown",
   "metadata": {},
   "source": [
    "This solution is $\\mathcal{O}(n)$.\n",
    "\n",
    "In the [Upper Paleolithic](https://en.wikipedia.org/wiki/Upper_Paleolithic), before Python 3.5, hunter-gatherers used `float(\"inf\")`."
   ]
  },
  {
   "cell_type": "markdown",
   "metadata": {
    "slideshow": {
     "slide_type": "subslide"
    }
   },
   "source": [
    "# But, of course, we have the built-in [`max()`](https://docs.python.org/3/library/functions.html#max)"
   ]
  },
  {
   "cell_type": "code",
   "execution_count": 3,
   "metadata": {
    "slideshow": {
     "slide_type": "-"
    }
   },
   "outputs": [
    {
     "data": {
      "text/plain": [
       "9"
      ]
     },
     "execution_count": 3,
     "metadata": {},
     "output_type": "execute_result"
    }
   ],
   "source": [
    "max(numbers)"
   ]
  },
  {
   "cell_type": "markdown",
   "metadata": {},
   "source": [
    "This is also $\\mathcal{O}(n)$."
   ]
  },
  {
   "cell_type": "markdown",
   "metadata": {
    "slideshow": {
     "slide_type": "subslide"
    }
   },
   "source": [
    "## All right, and the *two* maximum numbers?"
   ]
  },
  {
   "cell_type": "code",
   "execution_count": 4,
   "metadata": {
    "slideshow": {
     "slide_type": "-"
    }
   },
   "outputs": [
    {
     "data": {
      "text/plain": [
       "(9, 8)"
      ]
     },
     "execution_count": 4,
     "metadata": {},
     "output_type": "execute_result"
    }
   ],
   "source": [
    "def find_two_maximums(numbers):\n",
    "    \"\"\"Return the two maximum values in 'numbers'.\"\"\"\n",
    "    \n",
    "    top    = -math.inf\n",
    "    second = -math.inf \n",
    "    \n",
    "    for n in numbers:\n",
    "        if n > top:\n",
    "            # n the new 'top', old top demoted to 'second'\n",
    "            second = top\n",
    "            top = n\n",
    "        elif n > second:\n",
    "            second = n\n",
    "    return top, second\n",
    "\n",
    "\n",
    "find_two_maximums(numbers)"
   ]
  },
  {
   "cell_type": "markdown",
   "metadata": {
    "slideshow": {
     "slide_type": "subslide"
    }
   },
   "source": [
    "We can simplify the code a little bit using simultaneous assignments."
   ]
  },
  {
   "cell_type": "code",
   "execution_count": 5,
   "metadata": {
    "slideshow": {
     "slide_type": "-"
    }
   },
   "outputs": [
    {
     "data": {
      "text/plain": [
       "(9, 8)"
      ]
     },
     "execution_count": 5,
     "metadata": {},
     "output_type": "execute_result"
    }
   ],
   "source": [
    "def find_two_maximums(numbers):\n",
    "    \"\"\"Return the two maximum values in 'numbers'.\"\"\"\n",
    "    \n",
    "    top = second = -math.inf\n",
    "    \n",
    "    for n in numbers:\n",
    "        if n > top:\n",
    "            top, second = n, top\n",
    "        elif n > second:\n",
    "            second = n\n",
    "    return top, second\n",
    "\n",
    "\n",
    "find_two_maximums(numbers)"
   ]
  },
  {
   "cell_type": "markdown",
   "metadata": {
    "slideshow": {
     "slide_type": "subslide"
    }
   },
   "source": [
    "## Fine. And the... *three* maximum values?"
   ]
  },
  {
   "cell_type": "code",
   "execution_count": 6,
   "metadata": {
    "slideshow": {
     "slide_type": "-"
    }
   },
   "outputs": [
    {
     "data": {
      "text/plain": [
       "(9, 8, 6)"
      ]
     },
     "execution_count": 6,
     "metadata": {},
     "output_type": "execute_result"
    }
   ],
   "source": [
    "def find_three_maximums(numbers):\n",
    "    \"\"\"Return the three maximum values in 'numbers'.\"\"\"\n",
    "    \n",
    "    top = second = third = -math.inf\n",
    "    \n",
    "    for n in numbers:\n",
    "        if n > top:\n",
    "            top, second, third = n, top, second\n",
    "        elif n > second:\n",
    "            second, third = n, second\n",
    "        elif n > third:\n",
    "            third = n\n",
    "    return top, second, third\n",
    "\n",
    "\n",
    "find_three_maximums(numbers)"
   ]
  },
  {
   "cell_type": "markdown",
   "metadata": {
    "slideshow": {
     "slide_type": "-"
    }
   },
   "source": [
    "This approach is $\\mathcal{O}(kn) = \\mathcal{O}(n)$, where $k$ is the number of maximums that we want."
   ]
  },
  {
   "cell_type": "markdown",
   "metadata": {
    "slideshow": {
     "slide_type": "subslide"
    }
   },
   "source": [
    "# How do we generalize this?"
   ]
  },
  {
   "cell_type": "code",
   "execution_count": 7,
   "metadata": {},
   "outputs": [],
   "source": [
    "def find_maximums(numbers, how_many):\n",
    "    \"\"\"Return the 'how_many' maximum numbers in 'numbers'.\"\"\"\n",
    "    \n",
    "    pass # place magic here"
   ]
  },
  {
   "cell_type": "markdown",
   "metadata": {
    "slideshow": {
     "slide_type": "subslide"
    }
   },
   "source": [
    "## The solution: we *sort* the values, then *slice*"
   ]
  },
  {
   "cell_type": "code",
   "execution_count": 8,
   "metadata": {
    "slideshow": {
     "slide_type": "-"
    }
   },
   "outputs": [],
   "source": [
    "numbers = [8, 5, 2, 6, 9, 3]"
   ]
  },
  {
   "cell_type": "code",
   "execution_count": 9,
   "metadata": {
    "slideshow": {
     "slide_type": "-"
    }
   },
   "outputs": [
    {
     "data": {
      "text/plain": [
       "[2, 3, 5, 6, 8, 9]"
      ]
     },
     "execution_count": 9,
     "metadata": {},
     "output_type": "execute_result"
    }
   ],
   "source": [
    "numbers.sort()\n",
    "numbers"
   ]
  },
  {
   "cell_type": "markdown",
   "metadata": {},
   "source": [
    "The three maximum values:"
   ]
  },
  {
   "cell_type": "code",
   "execution_count": 10,
   "metadata": {},
   "outputs": [
    {
     "data": {
      "text/plain": [
       "[2, 3, 5]"
      ]
     },
     "execution_count": 10,
     "metadata": {},
     "output_type": "execute_result"
    }
   ],
   "source": [
    "numbers[:3]"
   ]
  },
  {
   "cell_type": "markdown",
   "metadata": {},
   "source": [
    "This is $\\mathcal{O}(n \\log n)$, slower but still very acceptable."
   ]
  },
  {
   "cell_type": "markdown",
   "metadata": {
    "slideshow": {
     "slide_type": "subslide"
    }
   },
   "source": [
    "## So our function becomes..."
   ]
  },
  {
   "cell_type": "code",
   "execution_count": 11,
   "metadata": {
    "slideshow": {
     "slide_type": "-"
    }
   },
   "outputs": [],
   "source": [
    "numbers = [8, 5, 2, 6, 9, 3]"
   ]
  },
  {
   "cell_type": "code",
   "execution_count": 12,
   "metadata": {
    "slideshow": {
     "slide_type": "-"
    }
   },
   "outputs": [
    {
     "data": {
      "text/plain": [
       "[2, 3, 5]"
      ]
     },
     "execution_count": 12,
     "metadata": {},
     "output_type": "execute_result"
    }
   ],
   "source": [
    "def find_maximums(numbers, how_many):\n",
    "    \"\"\"Return the 'how_many' maximum numbers in 'numbers'.\"\"\"\n",
    "    \n",
    "    numbers.sort()\n",
    "    return numbers[:-how_many]\n",
    "\n",
    "\n",
    "\n",
    "find_maximums(numbers, 3)"
   ]
  },
  {
   "cell_type": "markdown",
   "metadata": {
    "slideshow": {
     "slide_type": "subslide"
    }
   },
   "source": [
    "## But I don't want to modify the original list\n",
    "\n",
    "Then let's sort *a copy* of the original list."
   ]
  },
  {
   "cell_type": "code",
   "execution_count": 13,
   "metadata": {},
   "outputs": [
    {
     "data": {
      "text/plain": [
       "[2, 3, 5]"
      ]
     },
     "execution_count": 13,
     "metadata": {},
     "output_type": "execute_result"
    }
   ],
   "source": [
    "def find_maximums(numbers, how_many):\n",
    "    \"\"\"Return the 'how_many' maximum numbers in 'numbers'.\"\"\"\n",
    "    \n",
    "    numbers = sorted(numbers)  # a new (sorted) list\n",
    "    return numbers[:-how_many]\n",
    "\n",
    "\n",
    "numbers = [8, 5, 2, 6, 9, 3]\n",
    "find_maximums(numbers, 3)"
   ]
  },
  {
   "cell_type": "markdown",
   "metadata": {
    "slideshow": {
     "slide_type": "subslide"
    }
   },
   "source": [
    "<center>\n",
    "<img src=\"./images/beard-corporate-facial-hair-556962.jpg\"/>\n",
    "</center>\n",
    "\n",
    "[Photo](https://www.pexels.com/photo/beard-corporate-facial-hair-formal-coat-556962/) by [rawpixel.com](https://www.pexels.com/@rawpixel) / [Pexels License](https://www.pexels.com/photo-license/)"
   ]
  },
  {
   "cell_type": "markdown",
   "metadata": {
    "slideshow": {
     "slide_type": "slide"
    }
   },
   "source": [
    "# Thunderstorm on the horizon\n",
    "\n",
    "- This approach suffices for simple problems.\n",
    "- However, we're going to see now a different scenario where it is **not** enough."
   ]
  },
  {
   "cell_type": "markdown",
   "metadata": {
    "slideshow": {
     "slide_type": "subslide"
    }
   },
   "source": [
    "## The problem\n",
    "\n",
    "> Find the maximums, but the data **does not fit into memory**.\n",
    "\n",
    "Examples:\n",
    "\n",
    "- A file with a trillion GPS coordinates, find the $k$ closest to some location.\n",
    "- A 100 TiB web server log file, find the $k$ actions best matching a metric.\n",
    "\n",
    "## Think dynamic, not static:\n",
    "\n",
    "- Not being able to load it into memory $\\rightarrow$ we only have a view over *part* of the data.\n",
    "- In other words: we can only process the data in chunks.\n",
    "- Therefore, [`sorted()`](https://docs.python.org/3/library/functions.html#sorted) is not an option."
   ]
  },
  {
   "cell_type": "markdown",
   "metadata": {
    "slideshow": {
     "slide_type": "subslide"
    }
   },
   "source": [
    "# Sample data\n",
    "\n",
    "For the purposes of our exercise, let's use a file with numbers, one per line."
   ]
  },
  {
   "cell_type": "code",
   "execution_count": 14,
   "metadata": {
    "slideshow": {
     "slide_type": "-"
    }
   },
   "outputs": [
    {
     "name": "stdout",
     "output_type": "stream",
     "text": [
      "35\r\n",
      "38\r\n",
      "31\r\n",
      "2\r\n",
      "12\r\n",
      "27\r\n",
      "6\r\n",
      "5\r\n",
      "4\r\n",
      "39\r\n"
     ]
    }
   ],
   "source": [
    "! cat lots-of-numbers.txt | head -n 10  # the first ten lines..."
   ]
  },
  {
   "cell_type": "markdown",
   "metadata": {
    "slideshow": {
     "slide_type": "subslide"
    }
   },
   "source": [
    "# How do we find the maximum number in the file?\n",
    "\n",
    "Well, again..."
   ]
  },
  {
   "cell_type": "code",
   "execution_count": 15,
   "metadata": {
    "slideshow": {
     "slide_type": "-"
    }
   },
   "outputs": [
    {
     "data": {
      "text/plain": [
       "49"
      ]
     },
     "execution_count": 15,
     "metadata": {},
     "output_type": "execute_result"
    }
   ],
   "source": [
    "import math\n",
    "\n",
    "def find_maximum(path):\n",
    "    \"\"\"Return the maximum number in a file.\"\"\"\n",
    "\n",
    "    maximum = -math.inf\n",
    "    with open(path) as fd:\n",
    "        for line in fd:\n",
    "            n = int(line.strip())\n",
    "            if n > maximum:\n",
    "                maximum = n\n",
    "    return maximum\n",
    "\n",
    "\n",
    "find_maximum(\"lots-of-numbers.txt\")"
   ]
  },
  {
   "cell_type": "markdown",
   "metadata": {},
   "source": [
    "This is $\\mathcal{O}(n)$."
   ]
  },
  {
   "cell_type": "markdown",
   "metadata": {
    "slideshow": {
     "slide_type": "subslide"
    }
   },
   "source": [
    "# And the two maximums?\n",
    "\n",
    "Again, and also $\\mathcal{O}(n)$:"
   ]
  },
  {
   "cell_type": "code",
   "execution_count": 16,
   "metadata": {},
   "outputs": [
    {
     "data": {
      "text/plain": [
       "(49, 48)"
      ]
     },
     "execution_count": 16,
     "metadata": {},
     "output_type": "execute_result"
    }
   ],
   "source": [
    "import math\n",
    "\n",
    "def find_two_maximums(path):\n",
    "    \"\"\"Return the two maximum numbers in a file.\"\"\"\n",
    "\n",
    "    top = second = -math.inf\n",
    "    with open(path) as fd:\n",
    "        for line in fd:\n",
    "            n = int(line.strip())\n",
    "            if n > top:\n",
    "                top, second = n, top\n",
    "            elif n > second:\n",
    "                second = n\n",
    "    return top, second\n",
    "\n",
    "\n",
    "find_two_maximums(\"lots-of-numbers.txt\")  # O(kn)"
   ]
  },
  {
   "cell_type": "markdown",
   "metadata": {},
   "source": [
    "And so on — we already know this. "
   ]
  },
  {
   "cell_type": "markdown",
   "metadata": {
    "slideshow": {
     "slide_type": "subslide"
    }
   },
   "source": [
    "# But now... *how* do we generalize it?"
   ]
  },
  {
   "cell_type": "code",
   "execution_count": 17,
   "metadata": {
    "slideshow": {
     "slide_type": "-"
    }
   },
   "outputs": [],
   "source": [
    "def find_maximums(path, how_many):\n",
    "    \"\"\"Return the 'how_many' maximum numbers in a file.\"\"\"\n",
    "\n",
    "    with open(path) as fd:\n",
    "        pass  # place more magic here"
   ]
  },
  {
   "cell_type": "markdown",
   "metadata": {
    "slideshow": {
     "slide_type": "-"
    }
   },
   "source": [
    "- We cannot sort the values because **they do not fit into memory**.\n",
    "- That is — to sort the values we need to load them *all* into memory first.\n",
    "\n",
    "What do we do?"
   ]
  },
  {
   "cell_type": "markdown",
   "metadata": {
    "slideshow": {
     "slide_type": "subslide"
    }
   },
   "source": [
    "# Attempt #1\n",
    "\n",
    "- Fine. We'll generalize the solution if a different way.\n",
    "- We'll use a list to keep the $k$ top values in memory...\n",
    "- ... and compare each new number against them.\n",
    "- If the new number is $>$ the minimum across these $k$ values, it replaces it.\n",
    "\n",
    "Example: `maximums` is `[3, 5, 7]`.\n",
    "- We see a new value, 2 $\\rightarrow$ 2 is not $>$ `min([3, 5, 7])`, so nothing happens.\n",
    "- We see a new value, 6 $\\rightarrow$ 6 enters, 3 leaves $\\rightarrow$ `maximums` becomes `[6, 5, 7]`."
   ]
  },
  {
   "cell_type": "code",
   "execution_count": 18,
   "metadata": {
    "slideshow": {
     "slide_type": "subslide"
    }
   },
   "outputs": [
    {
     "data": {
      "text/plain": [
       "[49, 48, 47]"
      ]
     },
     "execution_count": 18,
     "metadata": {},
     "output_type": "execute_result"
    }
   ],
   "source": [
    "def find_maximums(path, how_many):\n",
    "    \"\"\"Return the 'how_many' maximum numbers in a file.\"\"\"\n",
    "\n",
    "    maximums = []\n",
    "    with open(path) as fd:\n",
    "        for line in fd:\n",
    "            n = int(line.strip())\n",
    "            # Unconditionally take the first 'k' numbers.\n",
    "            if len(maximums) < how_many:\n",
    "                maximums.append(n)              \n",
    "            else:\n",
    "                smallest = min(maximums)       # O(k)\n",
    "                if n > smallest:\n",
    "                    maximums.remove(smallest)  # O(k)\n",
    "                    maximums.append(n)\n",
    "    return maximums\n",
    "\n",
    "\n",
    "find_maximums(\"lots-of-numbers.txt\", 3)"
   ]
  },
  {
   "cell_type": "markdown",
   "metadata": {},
   "source": [
    "- Each loop is $\\mathcal{O}(2k) = \\mathcal{O}(k)$\n",
    "- Total complexity: $\\mathcal{O}(k) \\times n = \\mathcal{O}(kn)$"
   ]
  },
  {
   "cell_type": "markdown",
   "metadata": {
    "slideshow": {
     "slide_type": "subslide"
    }
   },
   "source": [
    "## However... \n",
    "\n",
    "- If $k$ is a function of $n$, any $\\mathcal{O}(kn)$ function is $\\mathcal{O}({n}^{2})$\n",
    "- Example: \"get the numbers below the median\", so $k = \\frac{n}{2}$.\n",
    "- See [this question on Stack Overflow](https://stackoverflow.com/q/13161397)."
   ]
  },
  {
   "cell_type": "markdown",
   "metadata": {
    "slideshow": {
     "slide_type": "subslide"
    }
   },
   "source": [
    "<center><h1>Time complexities are vital</h1>\n",
    "    \n",
    "<img src=\"./images/comparison_computational_complexity.svg\" style=\"height: 400px; width:auto\"/>\n",
    "</center>\n",
    "\n",
    "[Image](https://en.wikipedia.org/wiki/Time_complexity#/media/File:Comparison_computational_complexity.svg) by [Cmglee](https://commons.wikimedia.org/wiki/User:Cmglee) / [CC BY-SA 4.0](https://creativecommons.org/licenses/by-sa/4.0/)"
   ]
  },
  {
   "cell_type": "markdown",
   "metadata": {
    "slideshow": {
     "slide_type": "subslide"
    }
   },
   "source": [
    "## Example:\n",
    "\n",
    "- So where a $\\mathcal{O}(n)$ algorithm processes 1,000 elements in, say, 1,000 milliseconds = 1s....\n",
    "- ...a $\\mathcal{O}({n}^2)$ algorithm processes 1,000 elements in ${1,000}^{2}$ ms = 10,000 ms $~=$ 17 *minutes*.\n",
    "- And even worse: processing 10,000 elements takes it ${10,000}^{2}$ ms $~=$ 1.2 *days*."
   ]
  },
  {
   "cell_type": "markdown",
   "metadata": {
    "slideshow": {
     "slide_type": "subslide"
    }
   },
   "source": [
    "# Attempt #2\n",
    "\n",
    "- Those $\\mathcal{O}(n)$ calls to [`remove()`](https://docs.python.org/3/tutorial/datastructures.html#more-on-lists) were expensive.\n",
    "- Let's sort the list in *reverse* order:\n",
    "  * The value we need to delete will be the last one. \n",
    "  * The call to [`pop()`](https://docs.python.org/3/tutorial/datastructures.html#more-on-lists) is $\\mathcal{O}(1)$.\n",
    "\n",
    "\n",
    "Example: `maximums` is `[7, 5, 3]`.\n",
    "- We see a new value, 2 $\\rightarrow 2 \\ngtr 3$, so nothing happens.\n",
    "- We see a new value, 6 $\\rightarrow 6 > 3$:\n",
    "  * Pop 3, append 6, `maximums` becomes `[7, 5, 6]`.\n",
    "  * Reverse sort again to maintain the invariant...\n",
    "  * ... and `maximums` becomes `[7, 6, 5]`."
   ]
  },
  {
   "cell_type": "code",
   "execution_count": 19,
   "metadata": {
    "slideshow": {
     "slide_type": "subslide"
    }
   },
   "outputs": [
    {
     "data": {
      "text/plain": [
       "[49, 48, 47]"
      ]
     },
     "execution_count": 19,
     "metadata": {},
     "output_type": "execute_result"
    }
   ],
   "source": [
    "def find_maximums(path, how_many):\n",
    "    \"\"\"Return the 'how_many' maximum numbers in a file.\"\"\"\n",
    "\n",
    "    maximums = []\n",
    "    with open(path) as fd:\n",
    "        for line in fd:\n",
    "            n = int(line.strip())\n",
    "            # Unconditionally take the first 'n' numbers.\n",
    "            if len(maximums) < how_many:\n",
    "                maximums.append(n)              \n",
    "            else:\n",
    "                maximums.sort(reverse=True)   # O(k log k)\n",
    "                if n > maximums[-1]:          # the minimum\n",
    "                    maximums.pop()            # O(1)\n",
    "                    maximums.append(n)        # O(1)\n",
    "    return maximums\n",
    "\n",
    "find_maximums(\"lots-of-numbers.txt\", 3)"
   ]
  },
  {
   "cell_type": "markdown",
   "metadata": {},
   "source": [
    "- Each loop is $\\mathcal{O}(k \\log k) + \\mathcal{O}(2) = \\mathcal{O}(k \\log k)$\n",
    "- Total complexity: $\\mathcal{O}(k \\log k) \\times n = \\mathcal{O}(k \\log k \\times n)$"
   ]
  },
  {
   "cell_type": "markdown",
   "metadata": {
    "slideshow": {
     "slide_type": "subslide"
    }
   },
   "source": [
    "# But still...\n",
    "\n",
    "- Again, if $k$ is a function of $n$, our $\\mathcal{O}(k \\log k \\times n)$ function is $\\mathcal{O}({n}^{2} \\log n)$\n",
    "- Example: \"get the numbers above the median\", so $k = \\frac{n}{2}$.\n",
    "- We're not doing better — in fact, this is *slower*!"
   ]
  },
  {
   "cell_type": "markdown",
   "metadata": {
    "slideshow": {
     "slide_type": "subslide"
    }
   },
   "source": [
    "# Attempt 3\n",
    "\n",
    "- We can do better, we tell ourselves.\n",
    "- If we always keep the (reversed) list sorted...\n",
    "- ... we can use $\\mathcal{O}(\\log k)$ [binary search](https://en.wikipedia.org/wiki/Binary_search_algorithm) for the insertion.\n",
    "- This is faster than the $\\mathcal{O}(k \\log k)$ sort after appending. \n",
    "\n",
    "Example: `maximums` is `[9, 8, 7, 5, 4, 3, 2]`.\n",
    "- We see a new value, 1 $\\rightarrow 1 \\ngtr 2$, so nothing happens.\n",
    "- We see a new value, 6 $\\rightarrow 6 > 2$:\n",
    "  * Pop 2, `maximums` becomes `[9, 8, 7, 5, 4, 3]`.\n",
    "  * Binary insertion with [bisect.insort()](https://docs.python.org/3/library/bisect.html).\n",
    "  * `maximums` becomes `[9, 8, 7, 6, 5, 4, 3]`."
   ]
  },
  {
   "cell_type": "code",
   "execution_count": 20,
   "metadata": {
    "slideshow": {
     "slide_type": "subslide"
    }
   },
   "outputs": [
    {
     "data": {
      "text/plain": [
       "[49, 48, 47]"
      ]
     },
     "execution_count": 20,
     "metadata": {},
     "output_type": "execute_result"
    }
   ],
   "source": [
    "import bisect\n",
    "\n",
    "def find_maximums(path, how_many):\n",
    "    \"\"\"Return the 'how_many' maximum numbers in a file.\"\"\"\n",
    "\n",
    "    # We keep the list of maximums in reserve order, but 'bisect' doesn't have\n",
    "    # a 'key' or 'reversed' arguments like 'sorted()' does. We achieve the same\n",
    "    # goal negating (additive inverse) the values stored in 'maximums'.\n",
    "    \n",
    "    maximums = []\n",
    "    with open(path) as fd:\n",
    "        for line in fd:\n",
    "            n = -int(line.strip())  # note the negation!\n",
    "            # Unconditionally take the first 'n' numbers.\n",
    "            if len(maximums) < how_many:\n",
    "                bisect.insort(maximums, n)\n",
    "            else:\n",
    "                if n < maximums[-1]:            # the minimum\n",
    "                    maximums.pop()              # O(1)\n",
    "                    bisect.insort(maximums, n)  # O(log k)... right?\n",
    "    return [-x for x in maximums]\n",
    "\n",
    "\n",
    "find_maximums(\"lots-of-numbers.txt\", 3)"
   ]
  },
  {
   "cell_type": "markdown",
   "metadata": {
    "slideshow": {
     "slide_type": "subslide"
    }
   },
   "source": [
    "##  However...\n",
    "\n",
    "- [`bisect.insort()`](https://docs.python.org/3/library/bisect.html#bisect.insort) is (plot twist) $\\mathcal{O}(n)$.\n",
    "- $\\mathcal{O}(\\log n)$ to find the insertion point + $\\mathcal{O}(n)$ to **shift** the array to the right.\n",
    "\n",
    "From the [Python docs](https://docs.python.org/3/library/bisect.html#bisect.insort):\n",
    "\n",
    "> Keep in mind that the $\\mathcal{O}(\\log n)$ search is dominated by the slow $\\mathcal{O}(n)$ insertion step.\n",
    "\n",
    "- Thus, the call to [`bisect.insort()`](https://docs.python.org/3/library/bisect.html#bisect.insort) is $\\mathcal{O}(k)$.\n",
    "- Again, if $k$ is a function of $n$, this means $\\mathcal{O}(n)$.\n",
    "- So it's still $\\mathcal{O}(n)$, which called $n$ times is $\\mathcal{O}({n}^{2})$. This is still bad."
   ]
  },
  {
   "cell_type": "markdown",
   "metadata": {
    "slideshow": {
     "slide_type": "subslide"
    }
   },
   "source": [
    "# Attempt 4\n",
    "\n",
    "Desperate option: I'll use a [linked list](https://en.wikipedia.org/wiki/Linked_list)! In this way we don't have so shift *anything*!"
   ]
  },
  {
   "cell_type": "code",
   "execution_count": 21,
   "metadata": {
    "slideshow": {
     "slide_type": "-"
    }
   },
   "outputs": [
    {
     "data": {
      "text/plain": [
       "deque([47, 48, 49])"
      ]
     },
     "execution_count": 21,
     "metadata": {},
     "output_type": "execute_result"
    }
   ],
   "source": [
    "import bisect\n",
    "import collections\n",
    "\n",
    "def find_maximums(path, how_many):\n",
    "    \"\"\"Return the 'how_many' maximum numbers in a file.\"\"\"\n",
    "\n",
    "    maximums = collections.deque()  # a double-linked list\n",
    "    with open(path) as fd:\n",
    "        for line in fd:\n",
    "            n = int(line.strip())\n",
    "            # Unconditionally take the first 'n' numbers.\n",
    "            if len(maximums) < how_many:\n",
    "                bisect.insort(maximums, n)\n",
    "            else:\n",
    "                if n > maximums[0]:             # the minimum\n",
    "                    maximums.popleft()          # O(1)\n",
    "                    bisect.insort(maximums, n)  # This should be O(k)... right?\n",
    "    return maximums\n",
    "\n",
    "\n",
    "find_maximums(\"lots-of-numbers.txt\", 3)"
   ]
  },
  {
   "cell_type": "markdown",
   "metadata": {
    "slideshow": {
     "slide_type": "subslide"
    }
   },
   "source": [
    "#  Nevertheless... (warning, maths)\n",
    "\n",
    "- It's true that we don't have to shift anything, but [according to the docs](https://docs.python.org/3/library/collections.html#collections.deque):\n",
    "\n",
    "> Indexed access is $\\mathcal{O}(1)$ at both ends but slows to $\\mathcal{O}(k)$ in the middle. For fast random access, use lists instead.\n",
    "\n",
    "- First, [`bisect.insort()`](https://docs.python.org/3/library/bisect.html#bisect.insort) needs to find the insertion point: $\\mathcal{O}(\\log k)$\n",
    "- But the accesses themselves are $\\mathcal{O}(k) + \\mathcal{O}(\\frac{k}{2}) + \\mathcal{O}(\\frac{k}{4}) \\dots = \\mathcal{O}(2k - 1) = \\mathcal{O}(k)$ (see [1])\n",
    "- Therefore, finding the insertion point is $\\mathcal{O}(\\log k) + \\mathcal{O}(k) = \\mathcal{O}(k)$\n",
    "\n",
    "\n",
    "- Then, the insertion via rotations is $\\mathcal{O}(k)$ (see [2])\n",
    "- So each iteration is $\\mathcal{O}(k) + \\mathcal{O}(k) = \\mathcal{O}(2k) = \\mathcal{O}(k)$\n",
    "- And, again, if $k$ is a function of $n$, this means $\\mathcal{O}(n)$\n",
    "\n",
    "\n",
    "- So it's still $\\mathcal{O}(n)$, which called $n$ times is $\\mathcal{O}({n}^{2})$\n",
    "\n",
    "\n",
    "1. https://math.stackexchange.com/q/401937\n",
    "2. https://github.com/python/cpython/blob/24bd50bdcc97d65130"
   ]
  },
  {
   "cell_type": "markdown",
   "metadata": {
    "slideshow": {
     "slide_type": "subslide"
    }
   },
   "source": [
    "<center>\n",
    "<img src=\"./images/adult-beard-boy-573564.jpg\"/>\n",
    "</center>\n",
    "\n",
    "[Photo](https://www.pexels.com/photo/adult-beard-boy-facial-hair-573564/) by [rawpixel.com](https://www.pexels.com/@rawpixel) / [Pexels License](https://www.pexels.com/photo-license/)"
   ]
  },
  {
   "cell_type": "markdown",
   "metadata": {
    "slideshow": {
     "slide_type": "slide"
    }
   },
   "source": [
    "# The solution: *heaps*\n",
    "\n",
    "\n",
    "The problem that we're facing is that we need to do insert values in the middle, but this forces us to shift values to the right in $\\mathcal{O}(n)$. We've hit the limits of our one-dimensional data structure.\n",
    "\n",
    "Remember the quote from [Contact][1]? \n",
    "\n",
    "> - Hadden: [...] An alien intelligence is going to be more advanced. That means efficiency functioning on multiple levels and in multiple dimensions.\n",
    "> - Ellie: Yes! Of course. Where is the primer?\n",
    "\n",
    "This problem is one of the reasons humankind came up with a new data structure: [trees][2].\n",
    "\n",
    "[1]: https://en.wikipedia.org/wiki/Contact_(1997_American_film)\n",
    "[2]: https://en.wikipedia.org/wiki/Tree_(data_structure)"
   ]
  },
  {
   "cell_type": "markdown",
   "metadata": {
    "slideshow": {
     "slide_type": "subslide"
    }
   },
   "source": [
    "# What are heaps?\n",
    "\n",
    "A min-heap is a tree-based data structure that satisfies one **invariant**:\n",
    "\n",
    "> Each node is less than or equal to all its descendants.\n",
    "\n",
    "<center>\n",
    "<img src=\"images/simple/heap.svg\" style=\"height: 400px; width:auto\"/>\n",
    "</center>"
   ]
  },
  {
   "cell_type": "markdown",
   "metadata": {
    "slideshow": {
     "slide_type": "subslide"
    }
   },
   "source": [
    "# In a nutshell\n",
    "\n",
    "- It follows from the heap invariant that the root of the tree contains the *minimum*.\n",
    "- A common implementation is the [binary heap](https://en.wikipedia.org/wiki/Binary_heap), with two children per node.\n",
    "- A binary heap is a [complete binary tree](https://en.wikipedia.org/wiki/Binary_tree#complete): fills level by level, left to right.\n",
    "- Introduced by [J. W. J. Williams](https://en.wikipedia.org/wiki/J._W._J._Williams) in 1964 as part of the [heapsort](https://en.wikipedia.org/wiki/Heapsort) sorting algorithm.\n",
    "- A max-heap is the same, but each node $\\geq$ all its descendants.\n",
    "\n",
    "Much more information available, as always, [on Wikipedia][1].\n",
    "\n",
    "[1]: https://en.wikipedia.org/wiki/Heap_(data_structure)"
   ]
  },
  {
   "cell_type": "markdown",
   "metadata": {
    "slideshow": {
     "slide_type": "subslide"
    }
   },
   "source": [
    "# Important\n",
    "\n",
    "<center>\n",
    "<img src=\"images/simple/heap.svg\" style=\"height: 200px; width:auto\"/>\n",
    "</center>\n",
    "\n",
    "- There is **no** particular relationship among nodes on any given level...\n",
    "- ... even among the siblings.\n",
    "- The heap invariant relates *only* to a node and its ancestors / desdendants.\n",
    "\n",
    "In other words: with a heap we care that the smallest element is stored at the root.\n",
    "\n",
    "**Nothing else**."
   ]
  },
  {
   "cell_type": "markdown",
   "metadata": {
    "slideshow": {
     "slide_type": "slide"
    }
   },
   "source": [
    "# The three operations\n",
    "\n",
    "\n",
    "## Get root: $\\mathcal{O}(1)$\n",
    "\n",
    "\n",
    "Because of the heap invariant, the minimum is always at the root of the tree. That's it.\n",
    "\n",
    "<center>\n",
    "<img src=\"images/root/highlight-root.svg\" style=\"height: 400px; width:auto\"/>\n",
    "</center>"
   ]
  },
  {
   "cell_type": "markdown",
   "metadata": {
    "slideshow": {
     "slide_type": "slide"
    }
   },
   "source": [
    "## Delete root: $\\mathcal{O}(\\log n)$\n",
    "\n",
    "- For a deletion, remove the root and replace it with the *last* element in the tree.\n",
    "- This may violate the heap invariant...\n",
    "- ... so we compare the minimum of its two children:\n",
    "  1. If it's $\\gt$ than the (smallest) children, swap them.\n",
    "  2. Keep percolating down until the invariant is restablished.\n",
    "  \n",
    "  \n",
    "- This is logarithmic on the total number of items in the heap:\n",
    "  * The heap has a maximum of ${2}^{n}$ elements, where $n$ is the number of *levels*.\n",
    "  * So for our new root to *trickle down* we need at most $n$ comparisons.\n",
    "  * Therefore, complexity is $\\mathcal{O}(\\log_{2}{n}) = \\mathcal{O}(\\log n)$."
   ]
  },
  {
   "cell_type": "markdown",
   "metadata": {
    "slideshow": {
     "slide_type": "subslide"
    }
   },
   "source": [
    "<center>\n",
    "<img src=\"images/deletion/00-highlight-root.svg\" style=\"height: 400px; width:auto\"/>\n",
    "</center>"
   ]
  },
  {
   "cell_type": "markdown",
   "metadata": {
    "slideshow": {
     "slide_type": "subslide"
    }
   },
   "source": [
    "<center>\n",
    "<img src=\"images/deletion/01-root-is-gone.svg\" style=\"height: 400px; width:auto\"/>\n",
    "</center>"
   ]
  },
  {
   "cell_type": "markdown",
   "metadata": {
    "slideshow": {
     "slide_type": "subslide"
    }
   },
   "source": [
    "<center>\n",
    "<img src=\"images/deletion/02-highlight-last-node.svg\" style=\"height: 400px; width:auto\"/>\n",
    "</center>    "
   ]
  },
  {
   "cell_type": "markdown",
   "metadata": {
    "slideshow": {
     "slide_type": "subslide"
    }
   },
   "source": [
    "<center>\n",
    "<img src=\"images/deletion/03-show-last-node-becomes-root.svg\" style=\"height: 400px; width:auto\"/>\n",
    "</center>    "
   ]
  },
  {
   "cell_type": "markdown",
   "metadata": {
    "slideshow": {
     "slide_type": "subslide"
    }
   },
   "source": [
    "<center>\n",
    "<img src=\"images/deletion/04-last-node-becomes-root.svg\" style=\"height: 400px; width:auto\"/>\n",
    "</center>    "
   ]
  },
  {
   "cell_type": "markdown",
   "metadata": {
    "slideshow": {
     "slide_type": "subslide"
    }
   },
   "source": [
    "<center>\n",
    "<img src=\"images/deletion/05-highlight-left-child.svg\" style=\"height: 400px; width:auto\"/>\n",
    "</center>    "
   ]
  },
  {
   "cell_type": "markdown",
   "metadata": {
    "slideshow": {
     "slide_type": "subslide"
    }
   },
   "source": [
    "<center>\n",
    "<img src=\"images/deletion/06-highlight-right-child.svg\" style=\"height: 400px; width:auto\"/>\n",
    "</center>"
   ]
  },
  {
   "cell_type": "markdown",
   "metadata": {
    "slideshow": {
     "slide_type": "subslide"
    }
   },
   "source": [
    "<center>\n",
    "<img src=\"images/deletion/07-mark-left-child.svg\" style=\"height: 400px; width:auto\"/>\n",
    "</center>"
   ]
  },
  {
   "cell_type": "markdown",
   "metadata": {
    "slideshow": {
     "slide_type": "subslide"
    }
   },
   "source": [
    "<center>\n",
    "<img src=\"images/deletion/08-swap-root-and-left-child.svg\" style=\"height: 400px; width:auto\"/>\n",
    "</center>    "
   ]
  },
  {
   "cell_type": "markdown",
   "metadata": {
    "slideshow": {
     "slide_type": "subslide"
    }
   },
   "source": [
    "<center>\n",
    "<img src=\"images/deletion/09-clear-left-child.svg\" style=\"height: 400px; width:auto\"/>\n",
    "</center>    "
   ]
  },
  {
   "cell_type": "markdown",
   "metadata": {
    "slideshow": {
     "slide_type": "subslide"
    }
   },
   "source": [
    "<center>\n",
    "<img src=\"images/deletion/10-highlight-left-grandchild.svg\" style=\"height: 400px; width:auto\"/>\n",
    "</center>    "
   ]
  },
  {
   "cell_type": "markdown",
   "metadata": {
    "slideshow": {
     "slide_type": "subslide"
    }
   },
   "source": [
    "<center>\n",
    "<img src=\"images/deletion/11-highlight-right-grandchild.svg\" style=\"height: 400px; width:auto\"/>\n",
    "</center>    "
   ]
  },
  {
   "cell_type": "markdown",
   "metadata": {
    "slideshow": {
     "slide_type": "subslide"
    }
   },
   "source": [
    "<center>\n",
    "<img src=\"images/deletion/12-mark-right-grandchild.svg\" style=\"height: 400px; width:auto\"/>\n",
    "</center>"
   ]
  },
  {
   "cell_type": "markdown",
   "metadata": {
    "slideshow": {
     "slide_type": "subslide"
    }
   },
   "source": [
    "<center>\n",
    "<img src=\"images/deletion/13-swap-root-and-right-grandchild.svg\" style=\"height: 400px; width:auto\"/>\n",
    "</center>    "
   ]
  },
  {
   "cell_type": "markdown",
   "metadata": {
    "slideshow": {
     "slide_type": "subslide"
    }
   },
   "source": [
    "<center>\n",
    "<img src=\"images/deletion/14-clear-right-grandchild.svg\" style=\"height: 400px; width:auto\"/>\n",
    "</center>"
   ]
  },
  {
   "cell_type": "markdown",
   "metadata": {
    "slideshow": {
     "slide_type": "subslide"
    }
   },
   "source": [
    "<center>\n",
    "<img src=\"images/deletion/15-clear-original-root.svg\" style=\"height: 400px; width:auto\"/>\n",
    "</center>"
   ]
  },
  {
   "cell_type": "markdown",
   "metadata": {
    "slideshow": {
     "slide_type": "slide"
    }
   },
   "source": [
    "## Insertion: $\\mathcal{O}(\\log n)$\n",
    "\n",
    "- We add the new element at the *end* of the heap, in the first available slot.\n",
    "\n",
    "- Again, this may violate the heap invariant...\n",
    "- ... so we compare the node to its ancestor.\n",
    "  1. If it's $\\lt$ than the ancestor, swap them.\n",
    "  2. Keep bubbling the node *up* until the invariant is restablished.\n",
    "  \n",
    "  \n",
    "- The complexity is again logarithmic, $\\mathcal{O}(\\log n)$"
   ]
  },
  {
   "cell_type": "markdown",
   "metadata": {
    "slideshow": {
     "slide_type": "subslide"
    }
   },
   "source": [
    "<center>\n",
    "<img src=\"images/insertion/00-simple-heap-empty-slot.svg\" style=\"height: 400px; width:auto\"/>\n",
    "</center>"
   ]
  },
  {
   "cell_type": "markdown",
   "metadata": {
    "slideshow": {
     "slide_type": "subslide"
    }
   },
   "source": [
    "<center>\n",
    "<img src=\"images/insertion/01a-highlight-next-free-slot.svg\" style=\"height: 400px; width:auto\"/>\n",
    "</center>"
   ]
  },
  {
   "cell_type": "markdown",
   "metadata": {
    "slideshow": {
     "slide_type": "subslide"
    }
   },
   "source": [
    "<center>\n",
    "<img src=\"images/insertion/02-simple-heap-empty-slot.svg\" style=\"height: 400px; width:auto\"/>\n",
    "</center>    "
   ]
  },
  {
   "cell_type": "markdown",
   "metadata": {
    "slideshow": {
     "slide_type": "subslide"
    }
   },
   "source": [
    "<center>\n",
    "<img src=\"images/insertion/03-highlight-ancestor.svg\" style=\"height: 400px; width:auto\"/>\n",
    "</center>    "
   ]
  },
  {
   "cell_type": "markdown",
   "metadata": {
    "slideshow": {
     "slide_type": "subslide"
    }
   },
   "source": [
    "<center>\n",
    "<img src=\"images/insertion/04-mark-ancestor.svg\" style=\"height: 400px; width:auto\"/>\n",
    "</center>    "
   ]
  },
  {
   "cell_type": "markdown",
   "metadata": {
    "slideshow": {
     "slide_type": "subslide"
    }
   },
   "source": [
    "<center>\n",
    "<img src=\"images/insertion/05-swap-node-and-ancestor.svg\" style=\"height: 400px; width:auto\"/>\n",
    "</center>    "
   ]
  },
  {
   "cell_type": "markdown",
   "metadata": {
    "slideshow": {
     "slide_type": "subslide"
    }
   },
   "source": [
    "<center>\n",
    "<img src=\"images/insertion/06-clear-ancestor.svg\" style=\"height: 400px; width:auto\"/>\n",
    "</center>    "
   ]
  },
  {
   "cell_type": "markdown",
   "metadata": {
    "slideshow": {
     "slide_type": "subslide"
    }
   },
   "source": [
    "<center>\n",
    "<img src=\"images/insertion/07-highlight-ancestor.svg\" style=\"height: 400px; width:auto\"/>\n",
    "</center>    "
   ]
  },
  {
   "cell_type": "markdown",
   "metadata": {
    "slideshow": {
     "slide_type": "subslide"
    }
   },
   "source": [
    "<center>\n",
    "<img src=\"images/insertion/08-clear-root.svg\" style=\"height: 400px; width:auto\"/>\n",
    "</center>    "
   ]
  },
  {
   "cell_type": "markdown",
   "metadata": {
    "slideshow": {
     "slide_type": "subslide"
    }
   },
   "source": [
    "<center>\n",
    "<img src=\"images/insertion/09-clear-new-node.svg\" style=\"height: 400px; width:auto\"/>\n",
    "</center>    "
   ]
  },
  {
   "cell_type": "markdown",
   "metadata": {
    "slideshow": {
     "slide_type": "slide"
    }
   },
   "source": [
    "# Lo and behold\n",
    "\n",
    "\n",
    "- We can both add values *and* remove the minimum from a heap in $\\mathcal{O}(\\log n)$\n",
    "- This is the data structure, sent from Heaven, that we needed.\n",
    "- Among its many uses it's worth mentioning:\n",
    "\n",
    "  1. [Heapsort](https://en.wikipedia.org/wiki/Heapsort).\n",
    "  2. [Dijkstra's algorithm](https://en.wikipedia.org/wiki/Dijkstra's_algorithm).\n",
    "  3. [K-way merge](https://en.wikipedia.org/wiki/K-way_merge_algorithm)."
   ]
  },
  {
   "cell_type": "markdown",
   "metadata": {
    "slideshow": {
     "slide_type": "subslide"
    }
   },
   "source": [
    "<center>\n",
    "<img src=\"./images/adult-agreement-beard-541526.jpg\"/>\n",
    "</center>\n",
    "\n",
    "[Photo](https://www.pexels.com/photo/adult-agreement-beard-beverage-541526/) by [rawpixel.com](https://www.pexels.com/@rawpixel) / [Pexels License](https://www.pexels.com/photo-license/)"
   ]
  },
  {
   "cell_type": "markdown",
   "metadata": {
    "slideshow": {
     "slide_type": "slide"
    }
   },
   "source": [
    "# How to implement it?\n",
    "\n",
    "We could implement a binary heap as what it is: a [tree][1].\n",
    "\n",
    "[1]: https://en.wikipedia.org/wiki/Tree_(data_structure)."
   ]
  },
  {
   "cell_type": "markdown",
   "metadata": {
    "slideshow": {
     "slide_type": "subslide"
    }
   },
   "source": [
    "## First the nodes..."
   ]
  },
  {
   "cell_type": "code",
   "execution_count": 22,
   "metadata": {
    "slideshow": {
     "slide_type": "-"
    }
   },
   "outputs": [],
   "source": [
    "import functools\n",
    "\n",
    "@functools.total_ordering\n",
    "class Node:\n",
    "    \"\"\"A node with two children, left and right.\"\"\"    \n",
    "\n",
    "    def __init__(self,value):\n",
    "        self.value = value\n",
    "        self.left  = None\n",
    "        self.right = None\n",
    "    \n",
    "    def __repr__(self):\n",
    "        return \"{}({})\".format(type(self).__name__, self.value)\n",
    "    \n",
    "    def __eq__(self, other):\n",
    "        return self.value == other.value\n",
    "\n",
    "    def __lt__(self, other):\n",
    "        return self.value < other.value"
   ]
  },
  {
   "cell_type": "code",
   "execution_count": 23,
   "metadata": {
    "slideshow": {
     "slide_type": "subslide"
    }
   },
   "outputs": [],
   "source": [
    "n1 = Node(2)\n",
    "n1.left  = Node(5)\n",
    "n1.right = Node(3)"
   ]
  },
  {
   "cell_type": "code",
   "execution_count": 24,
   "metadata": {},
   "outputs": [],
   "source": [
    "n1.right.left  = Node(7)\n",
    "n1.right.right = Node(9)"
   ]
  },
  {
   "cell_type": "code",
   "execution_count": 25,
   "metadata": {},
   "outputs": [
    {
     "data": {
      "text/plain": [
       "False"
      ]
     },
     "execution_count": 25,
     "metadata": {},
     "output_type": "execute_result"
    }
   ],
   "source": [
    "n2 = Node(4)\n",
    "n1 >= n2"
   ]
  },
  {
   "cell_type": "markdown",
   "metadata": {
    "slideshow": {
     "slide_type": "subslide"
    }
   },
   "source": [
    "## ... and with them the heap"
   ]
  },
  {
   "cell_type": "code",
   "execution_count": 26,
   "metadata": {
    "slideshow": {
     "slide_type": "-"
    }
   },
   "outputs": [],
   "source": [
    "class BinaryHeap:\n",
    "    \"\"\"A binary tree implementation of a min heap.\"\"\"\n",
    "    \n",
    "    def __init__(self):\n",
    "        self.root = None\n",
    "        \n",
    "    def peek(self):\n",
    "        \"\"\"Return the smallest value from the heap.\"\"\"\n",
    "        return self.root\n",
    "\n",
    "    def push(self, value):\n",
    "        \"\"\"Push the value onto the heap.\"\"\"\n",
    "        \n",
    "        # Add the new element at the end of the heap in the first available\n",
    "        # free space and restore the invariant. But wait, what's the \"first\n",
    "        # available free space in the tree?\n",
    "    \n",
    "    def pop(self):\n",
    "        \"\"\" Pop and return the smallest item from the heap.\"\"\"\n",
    "        \n",
    "        # Remove the root, replace it with the last element in the tree and\n",
    "        # restore the invariant. But... again... wait, what's the last element\n",
    "        # in the tree? How do we find it?"
   ]
  },
  {
   "cell_type": "markdown",
   "metadata": {
    "slideshow": {
     "slide_type": "subslide"
    }
   },
   "source": [
    "# This implementation is *hard*\n",
    "\n",
    "- We need to keep references / pointers between elements.\n",
    "- How do you determine...\n",
    "  1. What's the **last** node in the tree?\n",
    "  2. What's the **next free slot** in the tree?"
   ]
  },
  {
   "cell_type": "markdown",
   "metadata": {
    "slideshow": {
     "slide_type": "subslide"
    }
   },
   "source": [
    "<center>\n",
    "<img src=\"images/insertion/01b-show-path-to-next-free-slot.svg\" style=\"height: 400px; width:auto\"/>\n",
    "</center>  \n",
    "  \n",
    "How do you know we have to take *right* first, then insert there in the *right* child?"
   ]
  },
  {
   "cell_type": "markdown",
   "metadata": {
    "slideshow": {
     "slide_type": "subslide"
    }
   },
   "source": [
    "# Not an unsolvable problem\n",
    "\n",
    "- We could use a **threaded tree**, keeping references to the last node / next free slot.\n",
    "- For a nice and simple algorithm, see:\n",
    " \n",
    "[Peaps: Heaps implemented without arrays](https://www.cpp.edu/~ftang/courses/CS241/notes/Building_Heaps_With_Pointers.pdf), by  Paul Picazo (2018)"
   ]
  },
  {
   "cell_type": "markdown",
   "metadata": {
    "slideshow": {
     "slide_type": "slide"
    }
   },
   "source": [
    "# The alternative\n",
    "\n",
    "- Binary heaps can be represented in a very space-efficient way using **an array**.\n",
    "- This is known as an [implicit data structure](https://en.wikipedia.org/wiki/Implicit_data_structure).\n",
    "- We're *flattening* the tree...\n",
    "- ... and using a formula to move across nodes.\n",
    "\n",
    "<center>\n",
    "<img src=\"images/binary-heap-with-array-implementation.jpg\" style=\"height: 200px; width:auto\"/>\n",
    "</center>\n",
    "\n",
    "[Image](https://commons.wikimedia.org/wiki/File:Binary_Heap_with_Array_Implementation.JPG) by [Dcoetzee](https://commons.wikimedia.org/wiki/User:Dcoetzee) / [CC0](https://creativecommons.org/publicdomain/zero/1.0/deed.en)\n"
   ]
  },
  {
   "cell_type": "markdown",
   "metadata": {
    "slideshow": {
     "slide_type": "subslide"
    }
   },
   "source": [
    "# Formulas\n",
    "\n",
    "For any element at index $i$:\n",
    "  - Its children are always located at $2i+1$ and $2i+2$.\n",
    "  - Its parent is at index $floor((i − 1) ∕ 2)$.\n",
    "\n",
    "<center>\n",
    "<img src=\"images/binary_tree_in_array.svg\" style=\"height: 200px; width:auto\"/>\n",
    "</center>\n",
    "\n",
    "For example, take node at $index == 2$:\n",
    "- It's children are at indexes $2*2+1 = 5$ and $2*2+2 = 6$\n",
    "- It's parent is at index floor$((2 - 1) / 2) = $floor$(0.5) = 0$\n",
    "\n",
    "[Image](https://commons.wikimedia.org/wiki/File:Binary_tree_in_array.svg) by [Chris857](https://en.wikipedia.org/wiki/User:Chris857) / [Public domain](https://en.wikipedia.org/wiki/Public_domain)"
   ]
  },
  {
   "cell_type": "markdown",
   "metadata": {
    "slideshow": {
     "slide_type": "subslide"
    }
   },
   "source": [
    "# The two hard questions, revisited"
   ]
  },
  {
   "cell_type": "code",
   "execution_count": 27,
   "metadata": {},
   "outputs": [],
   "source": [
    "heap = [1, 3, 5, 9, 4, 7, 8]"
   ]
  },
  {
   "cell_type": "markdown",
   "metadata": {},
   "source": [
    "## What's the last node in the tree?\n",
    "\n",
    "Easy: it's the _last_ element in the array, so just go there."
   ]
  },
  {
   "cell_type": "code",
   "execution_count": 28,
   "metadata": {},
   "outputs": [
    {
     "data": {
      "text/plain": [
       "8"
      ]
     },
     "execution_count": 28,
     "metadata": {},
     "output_type": "execute_result"
    }
   ],
   "source": [
    "heap[-1]"
   ]
  },
  {
   "cell_type": "markdown",
   "metadata": {
    "slideshow": {
     "slide_type": "subslide"
    }
   },
   "source": [
    "## What's the next free slot?\n",
    "\n",
    "The index of the next free slot matches `len(n)`.\n",
    "\n",
    "But we don't even need it, we can just append:"
   ]
  },
  {
   "cell_type": "code",
   "execution_count": 29,
   "metadata": {},
   "outputs": [
    {
     "data": {
      "text/plain": [
       "[1, 3, 5, 9, 4, 7, 8, 13]"
      ]
     },
     "execution_count": 29,
     "metadata": {},
     "output_type": "execute_result"
    }
   ],
   "source": [
    "heap.append(13)\n",
    "heap"
   ]
  },
  {
   "cell_type": "markdown",
   "metadata": {},
   "source": [
    "Restore the invariant traversing the heap upwards (using the formula)."
   ]
  },
  {
   "cell_type": "markdown",
   "metadata": {
    "slideshow": {
     "slide_type": "slide"
    }
   },
   "source": [
    "# Heaps in Python\n",
    "\n",
    " Python offers us the heap queue algorithm in the [`heapq`](https://docs.python.org/3/library/heapq.html) module.\n",
    "  \n",
    "- It's a min-heap.\n",
    "- It doesn't encapsulate the heap into its own class — we use a built-in `list` instead.\n",
    "- We call the `heapq` functions to manipulate this list...\n",
    "- ... and these functions *maintain* the heap invariant.\n",
    "- Arguably too low level for our needs, but `¯\\_(ツ)_/¯` \n",
    "\n",
    "Two consequences:\n",
    "\n",
    "- The first element will *always* be the minimum.\n",
    "- [`sort()`](https://docs.python.org/3/tutorial/datastructures.html) maintains the heap invariant!"
   ]
  },
  {
   "cell_type": "markdown",
   "metadata": {
    "slideshow": {
     "slide_type": "subslide"
    }
   },
   "source": [
    "## Create an empty heap"
   ]
  },
  {
   "cell_type": "code",
   "execution_count": 30,
   "metadata": {
    "slideshow": {
     "slide_type": "-"
    }
   },
   "outputs": [],
   "source": [
    "h = []"
   ]
  },
  {
   "cell_type": "markdown",
   "metadata": {
    "slideshow": {
     "slide_type": "-"
    }
   },
   "source": [
    " That's it. An empty list."
   ]
  },
  {
   "cell_type": "markdown",
   "metadata": {
    "slideshow": {
     "slide_type": "subslide"
    }
   },
   "source": [
    "## Insert into the heap\n",
    "\n",
    "Use [`heappush()`](https://docs.python.org/3/library/heapq.html#heapq.heappush)."
   ]
  },
  {
   "cell_type": "code",
   "execution_count": 31,
   "metadata": {
    "slideshow": {
     "slide_type": "-"
    }
   },
   "outputs": [
    {
     "data": {
      "text/plain": [
       "[2, 5, 3]"
      ]
     },
     "execution_count": 31,
     "metadata": {},
     "output_type": "execute_result"
    }
   ],
   "source": [
    " import heapq\n",
    " \n",
    "# Insertion\n",
    "\n",
    "h = []\n",
    "heapq.heappush(h, 5)\n",
    "heapq.heappush(h, 2)\n",
    "heapq.heappush(h, 3)\n",
    " \n",
    "h"
   ]
  },
  {
   "cell_type": "markdown",
   "metadata": {
    "slideshow": {
     "slide_type": "subslide"
    }
   },
   "source": [
    "## Get the root (minimum)\n",
    "\n",
    "Take the first element."
   ]
  },
  {
   "cell_type": "code",
   "execution_count": 32,
   "metadata": {},
   "outputs": [
    {
     "data": {
      "text/plain": [
       "2"
      ]
     },
     "execution_count": 32,
     "metadata": {},
     "output_type": "execute_result"
    }
   ],
   "source": [
    "h[0]"
   ]
  },
  {
   "cell_type": "markdown",
   "metadata": {
    "slideshow": {
     "slide_type": "subslide"
    }
   },
   "source": [
    "## Pop the smallest\n",
    "\n",
    "Use [`heappop()`](https://docs.python.org/3/library/heapq.html#heapq.heappop)."
   ]
  },
  {
   "cell_type": "code",
   "execution_count": 33,
   "metadata": {
    "slideshow": {
     "slide_type": "-"
    }
   },
   "outputs": [
    {
     "data": {
      "text/plain": [
       "2"
      ]
     },
     "execution_count": 33,
     "metadata": {},
     "output_type": "execute_result"
    }
   ],
   "source": [
    "heapq.heappop(h)"
   ]
  },
  {
   "cell_type": "code",
   "execution_count": 34,
   "metadata": {},
   "outputs": [
    {
     "data": {
      "text/plain": [
       "[3, 5]"
      ]
     },
     "execution_count": 34,
     "metadata": {},
     "output_type": "execute_result"
    }
   ],
   "source": [
    "h"
   ]
  },
  {
   "cell_type": "markdown",
   "metadata": {
    "slideshow": {
     "slide_type": "subslide"
    }
   },
   "source": [
    "## heappushpop()\n",
    "\n",
    "- If we're going to add and *then* push...\n",
    "- ... [`heappushpop()`](https://docs.python.org/3/library/heapq.html#heapq.heappushpop) is faster than [`heappush()`](https://docs.python.org/3/library/heapq.html#heapq.heappop) followed by [`heappop()`](https://docs.python.org/3/library/heapq.html#heapq.heappop)"
   ]
  },
  {
   "cell_type": "code",
   "execution_count": 35,
   "metadata": {},
   "outputs": [
    {
     "data": {
      "text/plain": [
       "3"
      ]
     },
     "execution_count": 35,
     "metadata": {},
     "output_type": "execute_result"
    }
   ],
   "source": [
    "heapq.heappushpop(h, 4)"
   ]
  },
  {
   "cell_type": "code",
   "execution_count": 36,
   "metadata": {},
   "outputs": [
    {
     "data": {
      "text/plain": [
       "[4, 5]"
      ]
     },
     "execution_count": 36,
     "metadata": {},
     "output_type": "execute_result"
    }
   ],
   "source": [
    "h"
   ]
  },
  {
   "cell_type": "markdown",
   "metadata": {
    "slideshow": {
     "slide_type": "subslide"
    }
   },
   "source": [
    "## Transform a list into a heap\n",
    "\n",
    "Use [`heapify()`](https://docs.python.org/3/library/heapq.html#heapq.heapify)\n",
    "- In place.\n",
    "- $\\mathcal{O}(n)$"
   ]
  },
  {
   "cell_type": "code",
   "execution_count": 37,
   "metadata": {
    "slideshow": {
     "slide_type": "-"
    }
   },
   "outputs": [
    {
     "data": {
      "text/plain": [
       "[2, 3, 5, 7, 9]"
      ]
     },
     "execution_count": 37,
     "metadata": {},
     "output_type": "execute_result"
    }
   ],
   "source": [
    "h = [5, 7, 2, 3, 9]\n",
    "heapq.heapify(h)\n",
    "h"
   ]
  },
  {
   "cell_type": "markdown",
   "metadata": {
    "slideshow": {
     "slide_type": "subslide"
    }
   },
   "source": [
    "## Don't break it\n",
    "\n",
    "- Note that appending (or modifying in any other way) the list directly may break the heap invariant.\n",
    "- *Must* use the [`heapq`](https://docs.python.org/3/library/heapq.html) methods!"
   ]
  },
  {
   "cell_type": "code",
   "execution_count": 38,
   "metadata": {
    "slideshow": {
     "slide_type": "-"
    }
   },
   "outputs": [
    {
     "data": {
      "text/plain": [
       "[2, 3, 5, 7, 9, 1]"
      ]
     },
     "execution_count": 38,
     "metadata": {},
     "output_type": "execute_result"
    }
   ],
   "source": [
    "h.append(1)\n",
    "h"
   ]
  },
  {
   "cell_type": "markdown",
   "metadata": {
    "slideshow": {
     "slide_type": "-"
    }
   },
   "source": [
    "We broke it, `h[0]` is not the smallest item. Instead, we should have done:"
   ]
  },
  {
   "cell_type": "code",
   "execution_count": 39,
   "metadata": {
    "slideshow": {
     "slide_type": "-"
    }
   },
   "outputs": [],
   "source": [
    "heapq.heappush(h, 1)"
   ]
  },
  {
   "cell_type": "markdown",
   "metadata": {
    "slideshow": {
     "slide_type": "subslide"
    }
   },
   "source": [
    " # Storing actual things\n",
    " \n",
    " - In real life we just don't want to store integers, but most likely our own objects.\n",
    " - If our objects are comparable, we can also store them in a heap.\n",
    " - Python will compare them and maintain the heap invariant."
   ]
  },
  {
   "cell_type": "markdown",
   "metadata": {
    "slideshow": {
     "slide_type": "subslide"
    }
   },
   "source": [
    "## The naive approach\n",
    "\n",
    "- We can use two-element tuples.\n",
    "- The first element is the comparison value (i.e. the *priority*)\n",
    "- The second is the element being tracked itself.\n",
    "- Python will compare the tuples by looking at the first element."
   ]
  },
  {
   "cell_type": "code",
   "execution_count": 40,
   "metadata": {
    "slideshow": {
     "slide_type": "subslide"
    }
   },
   "outputs": [],
   "source": [
    "class Person:\n",
    "    \"\"\"A human being with a first name and a family name.\"\"\"\n",
    "    \n",
    "    def __init__(self, forename, surname):\n",
    "        self.forename = forename\n",
    "        self.surname  = surname\n",
    "\n",
    "    def __repr__(self):\n",
    "        return \"{} {}\".format(self.forename, self.surname)"
   ]
  },
  {
   "cell_type": "code",
   "execution_count": 41,
   "metadata": {
    "slideshow": {
     "slide_type": "subslide"
    }
   },
   "outputs": [
    {
     "data": {
      "text/plain": [
       "[(2, John Connor), (5, Sarah Connor), (7, Terminator T-1000)]"
      ]
     },
     "execution_count": 41,
     "metadata": {},
     "output_type": "execute_result"
    }
   ],
   "source": [
    "p1 = Person(forename=\"Sarah\", surname=\"Connor\")\n",
    "p2 = Person(forename=\"John\" , surname=\"Connor\")\n",
    "p3 = Person(forename=\"Terminator\", surname=\"T-1000\")\n",
    "\n",
    "h = []\n",
    "heapq.heappush(h, (5, p1))\n",
    "heapq.heappush(h, (2, p2))\n",
    "heapq.heappush(h, (7, p3))\n",
    "h"
   ]
  },
  {
   "cell_type": "markdown",
   "metadata": {
    "slideshow": {
     "slide_type": "subslide"
    }
   },
   "source": [
    "If we check the root or pop we get the (priority, element) tuple..."
   ]
  },
  {
   "cell_type": "code",
   "execution_count": 42,
   "metadata": {
    "slideshow": {
     "slide_type": "-"
    }
   },
   "outputs": [
    {
     "data": {
      "text/plain": [
       "(2, John Connor)"
      ]
     },
     "execution_count": 42,
     "metadata": {},
     "output_type": "execute_result"
    }
   ],
   "source": [
    "h[0]"
   ]
  },
  {
   "cell_type": "markdown",
   "metadata": {
    "slideshow": {
     "slide_type": "-"
    }
   },
   "source": [
    "... but often we only want the element."
   ]
  },
  {
   "cell_type": "code",
   "execution_count": 43,
   "metadata": {
    "slideshow": {
     "slide_type": "-"
    }
   },
   "outputs": [
    {
     "data": {
      "text/plain": [
       "John Connor"
      ]
     },
     "execution_count": 43,
     "metadata": {},
     "output_type": "execute_result"
    }
   ],
   "source": [
    "heapq.heappop(h)[1]"
   ]
  },
  {
   "cell_type": "markdown",
   "metadata": {
    "slideshow": {
     "slide_type": "subslide"
    }
   },
   "source": [
    "## A more elegant approach\n",
    "\n",
    "... for a more civilized age. Let's make our objects *comparable*."
   ]
  },
  {
   "cell_type": "code",
   "execution_count": 44,
   "metadata": {
    "slideshow": {
     "slide_type": "-"
    }
   },
   "outputs": [],
   "source": [
    "import functools\n",
    "import math\n",
    "\n",
    "@functools.total_ordering\n",
    "class Person:\n",
    "    \"\"\"A human being with a first name and a family name.\"\"\"\n",
    "    \n",
    "    def __init__(self, forename, surname):\n",
    "        self.forename = forename\n",
    "        self.surname  = surname\n",
    "\n",
    "    def __repr__(self):\n",
    "        return \"{} {}\".format(self.forename, self.surname)\n",
    "    \n",
    "    def __eq__(self, other):\n",
    "        return (self.forename == other.forename and \n",
    "                self.surname == other.surname)\n",
    "\n",
    "    def __lt__(self, other):\n",
    "        if self.surname < other.surname:\n",
    "            return True\n",
    "        return self.forename < other.forename"
   ]
  },
  {
   "cell_type": "code",
   "execution_count": 45,
   "metadata": {
    "slideshow": {
     "slide_type": "subslide"
    }
   },
   "outputs": [
    {
     "name": "stdout",
     "output_type": "stream",
     "text": [
      "Sarah Connor\n",
      "John Connor\n"
     ]
    },
    {
     "data": {
      "text/plain": [
       "True"
      ]
     },
     "execution_count": 45,
     "metadata": {},
     "output_type": "execute_result"
    }
   ],
   "source": [
    "p1 = Person(forename=\"Sarah\", surname=\"Connor\")\n",
    "p2 = Person(forename=\"John\" , surname=\"Connor\")\n",
    "print(p1)\n",
    "print(p2)\n",
    "p1 > p2"
   ]
  },
  {
   "cell_type": "markdown",
   "metadata": {
    "slideshow": {
     "slide_type": "subslide"
    }
   },
   "source": [
    "## Now use our comparable objects directly in the heap"
   ]
  },
  {
   "cell_type": "code",
   "execution_count": 46,
   "metadata": {
    "slideshow": {
     "slide_type": "-"
    }
   },
   "outputs": [
    {
     "data": {
      "text/plain": [
       "[John Connor, Sarah Connor, Terminator T-1000]"
      ]
     },
     "execution_count": 46,
     "metadata": {},
     "output_type": "execute_result"
    }
   ],
   "source": [
    "p1 = Person(forename=\"Sarah\", surname=\"Connor\")\n",
    "p2 = Person(forename=\"John\" , surname=\"Connor\")\n",
    "p3 = Person(forename=\"Terminator\", surname=\"T-1000\")\n",
    "\n",
    "h = []\n",
    "heapq.heappush(h, p1)\n",
    "heapq.heappush(h, p2)\n",
    "heapq.heappush(h, p3)\n",
    "h"
   ]
  },
  {
   "cell_type": "code",
   "execution_count": 47,
   "metadata": {
    "slideshow": {
     "slide_type": "-"
    }
   },
   "outputs": [
    {
     "data": {
      "text/plain": [
       "John Connor"
      ]
     },
     "execution_count": 47,
     "metadata": {},
     "output_type": "execute_result"
    }
   ],
   "source": [
    "heapq.heappop(h)"
   ]
  },
  {
   "cell_type": "markdown",
   "metadata": {
    "slideshow": {
     "slide_type": "subslide"
    }
   },
   "source": [
    "<center>\n",
    "<img src=\"./images/adult-beard-blur-551657.jpg\"/>\n",
    "</center>\n",
    "\n",
    "[Photo](https://www.pexels.com/photo/adult-beard-blur-business-551657/) by [rawpixel.com](https://www.pexels.com/@rawpixel) / [Pexels License](https://www.pexels.com/photo-license/)"
   ]
  },
  {
   "cell_type": "markdown",
   "metadata": {
    "slideshow": {
     "slide_type": "slide"
    }
   },
   "source": [
    "# Max-heaps\n",
    "\n",
    "- Python heaps are **min**-heaps. \n",
    "- What if we need a max-heap?\n",
    "- That is, what if we want the root to return the largest element, not the smallest?\n",
    "- Trick: negate the values."
   ]
  },
  {
   "cell_type": "code",
   "execution_count": 48,
   "metadata": {
    "slideshow": {
     "slide_type": "-"
    }
   },
   "outputs": [
    {
     "data": {
      "text/plain": [
       "[-9, -7, -5, -2]"
      ]
     },
     "execution_count": 48,
     "metadata": {},
     "output_type": "execute_result"
    }
   ],
   "source": [
    "values = [7, 2, 5, 9]\n",
    "\n",
    "h = [-x for x in values]\n",
    "heapq.heapify(h)\n",
    "h"
   ]
  },
  {
   "cell_type": "markdown",
   "metadata": {
    "slideshow": {
     "slide_type": "subslide"
    }
   },
   "source": [
    "We must **negate the values** when we add them..."
   ]
  },
  {
   "cell_type": "code",
   "execution_count": 49,
   "metadata": {
    "slideshow": {
     "slide_type": "-"
    }
   },
   "outputs": [
    {
     "data": {
      "text/plain": [
       "[-9, -7, -5, -2, -3]"
      ]
     },
     "execution_count": 49,
     "metadata": {},
     "output_type": "execute_result"
    }
   ],
   "source": [
    "heapq.heappush(h, -3)\n",
    "h"
   ]
  },
  {
   "cell_type": "markdown",
   "metadata": {
    "slideshow": {
     "slide_type": "-"
    }
   },
   "source": [
    "... and also when we get them."
   ]
  },
  {
   "cell_type": "code",
   "execution_count": 50,
   "metadata": {
    "slideshow": {
     "slide_type": "-"
    }
   },
   "outputs": [
    {
     "data": {
      "text/plain": [
       "9"
      ]
     },
     "execution_count": 50,
     "metadata": {},
     "output_type": "execute_result"
    }
   ],
   "source": [
    "element = -heapq.heappop(h)  \n",
    "element"
   ]
  },
  {
   "cell_type": "markdown",
   "metadata": {
    "slideshow": {
     "slide_type": "slide"
    }
   },
   "source": [
    "# Right back where we started from\n",
    "\n",
    "We can use a heap to rewrite our solution to the initial problem."
   ]
  },
  {
   "cell_type": "code",
   "execution_count": 51,
   "metadata": {
    "slideshow": {
     "slide_type": "-"
    }
   },
   "outputs": [
    {
     "data": {
      "text/plain": [
       "[47, 48, 49]"
      ]
     },
     "execution_count": 51,
     "metadata": {},
     "output_type": "execute_result"
    }
   ],
   "source": [
    "import heapq\n",
    "\n",
    "def find_maximums(path, how_many):\n",
    "    \"\"\"Return the 'how_many' maximum numbers in a file.\"\"\"\n",
    "    \n",
    "    h = []\n",
    "    maximums = []\n",
    "    with open(path) as fd:\n",
    "        for line in fd:\n",
    "            n = int(line.strip())\n",
    "            if len(h) < how_many:\n",
    "                heapq.heappush(h, n)  # min-heap! O(log k)\n",
    "            else:\n",
    "                # Add a new value, pop the smallest one.\n",
    "                heapq.heappushpop(h, n) # O(log k)\n",
    "           \n",
    "    return [element for element in h]\n",
    "\n",
    "\n",
    "find_maximums(\"lots-of-numbers.txt\", 3)"
   ]
  },
  {
   "cell_type": "markdown",
   "metadata": {},
   "source": [
    "Every time a new value makes it into the top $k$ it replaces the _smallest_ among them $\\rightarrow$ min-heap."
   ]
  },
  {
   "cell_type": "markdown",
   "metadata": {
    "slideshow": {
     "slide_type": "subslide"
    }
   },
   "source": [
    "## This is indeed *so* much better\n",
    "\n",
    "- Each iteration is $\\mathcal{O}(\\log k)$\n",
    "- Total complexity is $\\mathcal{O}(\\log k) \\times n = \\mathcal{O}(n \\log k)$\n",
    "- If $k$ is a function of $n$, it becomes $\\mathcal{O}(n \\log n)$."
   ]
  },
  {
   "cell_type": "markdown",
   "metadata": {
    "slideshow": {
     "slide_type": "subslide"
    }
   },
   "source": [
    "## The final plot twist\n",
    "\n",
    "- The solution was in the standard library all along...\n",
    "- ... because of this function: [`heapq.nlargest()`](https://docs.python.org/3/library/heapq.html#heapq.nlargest).\n",
    "- It uses a heap to find the $k$ largest elements from the iterable."
   ]
  },
  {
   "cell_type": "code",
   "execution_count": 52,
   "metadata": {
    "slideshow": {
     "slide_type": "-"
    }
   },
   "outputs": [
    {
     "data": {
      "text/plain": [
       "[2, 3, 5]"
      ]
     },
     "execution_count": 52,
     "metadata": {},
     "output_type": "execute_result"
    }
   ],
   "source": [
    "import heapq\n",
    "\n",
    "values = [3, 11, 2, 9, 5, 7]\n",
    "maximums = heapq.nsmallest(3, values)\n",
    "maximums"
   ]
  },
  {
   "cell_type": "markdown",
   "metadata": {
    "slideshow": {
     "slide_type": "-"
    }
   },
   "source": [
    "- Equivalent to `sorted(iterable, key=key, reverse=True)[:k]`.\n",
    "- But, using a heap, it only keeps $k$ values in memory.\n",
    "- There's also [`heapq.nsmallest()`](https://docs.python.org/3/library/heapq.html#heapq.nlargest), to find the $k$ minimums."
   ]
  },
  {
   "cell_type": "markdown",
   "metadata": {
    "slideshow": {
     "slide_type": "subslide"
    }
   },
   "source": [
    "## So our function becomes..."
   ]
  },
  {
   "cell_type": "code",
   "execution_count": 53,
   "metadata": {
    "slideshow": {
     "slide_type": "-"
    }
   },
   "outputs": [
    {
     "data": {
      "text/plain": [
       "[49, 48, 47]"
      ]
     },
     "execution_count": 53,
     "metadata": {},
     "output_type": "execute_result"
    }
   ],
   "source": [
    "import heapq\n",
    "\n",
    "def find_maximums(path, how_many):\n",
    "    \"\"\"Return the 'how_many' maximum numbers in a file.\"\"\"\n",
    "    \n",
    "    with open(path) as fd:\n",
    "        numbers = (int(line.strip()) for line in fd)  # a generator\n",
    "        return heapq.nlargest(how_many, numbers)\n",
    "\n",
    "\n",
    "find_maximums(\"lots-of-numbers.txt\", 3)"
   ]
  },
  {
   "cell_type": "markdown",
   "metadata": {
    "slideshow": {
     "slide_type": "subslide"
    }
   },
   "source": [
    "<center>\n",
    "<img src=\"./images/adult-beard-businessman-401685.jpg\"/>\n",
    "</center>\n",
    "\n",
    "[Photo](https://www.pexels.com/photo/beard-blur-cellphone-close-up-401685/) by [rawpixel.com](https://www.pexels.com/@rawpixel) / [Pexels License](https://www.pexels.com/photo-license/)"
   ]
  },
  {
   "cell_type": "markdown",
   "metadata": {
    "slideshow": {
     "slide_type": "slide"
    }
   },
   "source": [
    "# TL;DR\n",
    "\n",
    "* A heap allows us to find the $k$ smallest (or largest) entries in $\\mathcal{O}(k \\log n)$\n",
    "* This is **faster** than $\\mathcal{O}(n \\log n)$ of sorting _then_ slicing...\n",
    "\n",
    "* ... and the only solution if we **can't** manipulate all the data at the same time. Examples:\n",
    "  - Data doesn't fit into memory.\n",
    "  - We don't yet have all the data.\n",
    "\n",
    "\n",
    "* We've discussed here **binary heaps**, but there are many other types:\n",
    "  - [Fibonacci](https://en.wikipedia.org/wiki/Fibonacci_heap).\n",
    "  - [Brodal](https://en.wikipedia.org/wiki/Brodal_queue).\n",
    "  - [2-3](https://en.wikipedia.org/wiki/2-3_heap)."
   ]
  },
  {
   "cell_type": "markdown",
   "metadata": {
    "slideshow": {
     "slide_type": "subslide"
    }
   },
   "source": [
    "# The Takeaway\n",
    "\n",
    "- Whenever we have to find the $k$ smallest (or largest) values, **we need a heap**.\n",
    "- In Python we just call [heapq.nsmallest()](https://docs.python.org/3/library/heapq.html#heapq.nsmallest) or [heapq.nlargest()](https://docs.python.org/3/library/heapq.html#heapq.nlargest)"
   ]
  }
 ],
 "metadata": {
  "celltoolbar": "Slideshow",
  "kernelspec": {
   "display_name": "Python 3",
   "language": "python",
   "name": "python3"
  },
  "language_info": {
   "codemirror_mode": {
    "name": "ipython",
    "version": 3
   },
   "file_extension": ".py",
   "mimetype": "text/x-python",
   "name": "python",
   "nbconvert_exporter": "python",
   "pygments_lexer": "ipython3",
   "version": "3.7.0"
  }
 },
 "nbformat": 4,
 "nbformat_minor": 2
}
